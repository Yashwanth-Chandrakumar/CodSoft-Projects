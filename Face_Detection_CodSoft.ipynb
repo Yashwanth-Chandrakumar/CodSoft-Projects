{
  "nbformat": 4,
  "nbformat_minor": 0,
  "metadata": {
    "colab": {
      "provenance": [],
      "gpuType": "T4",
      "authorship_tag": "ABX9TyOaYPfhS2+d5PxTaLrpb1Jv",
      "include_colab_link": true
    },
    "kernelspec": {
      "name": "python3",
      "display_name": "Python 3"
    },
    "language_info": {
      "name": "python"
    },
    "accelerator": "GPU"
  },
  "cells": [
    {
      "cell_type": "markdown",
      "metadata": {
        "id": "view-in-github",
        "colab_type": "text"
      },
      "source": [
        "<a href=\"https://colab.research.google.com/github/Yashwanth-Chandrakumar/CodSoft-Projects/blob/main/Face_Detection_CodSoft.ipynb\" target=\"_parent\"><img src=\"https://colab.research.google.com/assets/colab-badge.svg\" alt=\"Open In Colab\"/></a>"
      ]
    },
    {
      "cell_type": "code",
      "source": [
        "!git clone https://github.com/misbah4064/face_recognition.git\n",
        "%cd face_recognition"
      ],
      "metadata": {
        "colab": {
          "base_uri": "https://localhost:8080/"
        },
        "id": "d3T4Ud7hTwM0",
        "outputId": "7d711d3d-2358-44d1-c295-b4f365035aec"
      },
      "execution_count": null,
      "outputs": [
        {
          "output_type": "stream",
          "name": "stdout",
          "text": [
            "Cloning into 'face_recognition'...\n",
            "remote: Enumerating objects: 26, done.\u001b[K\n",
            "remote: Counting objects: 100% (26/26), done.\u001b[K\n",
            "remote: Compressing objects: 100% (21/21), done.\u001b[K\n",
            "remote: Total 26 (delta 5), reused 23 (delta 3), pack-reused 0\u001b[K\n",
            "Receiving objects: 100% (26/26), 3.03 MiB | 30.45 MiB/s, done.\n",
            "Resolving deltas: 100% (5/5), done.\n",
            "/content/face_recognition\n"
          ]
        }
      ]
    },
    {
      "cell_type": "code",
      "source": [
        "!pip install face_recognition"
      ],
      "metadata": {
        "colab": {
          "base_uri": "https://localhost:8080/"
        },
        "id": "pgSRYEkocqfA",
        "outputId": "f65d154b-1ee0-4660-ed74-12849e1d06b2"
      },
      "execution_count": null,
      "outputs": [
        {
          "output_type": "stream",
          "name": "stdout",
          "text": [
            "Requirement already satisfied: face_recognition in /usr/local/lib/python3.10/dist-packages (1.3.0)\n",
            "Requirement already satisfied: face-recognition-models>=0.3.0 in /usr/local/lib/python3.10/dist-packages (from face_recognition) (0.3.0)\n",
            "Requirement already satisfied: Click>=6.0 in /usr/local/lib/python3.10/dist-packages (from face_recognition) (8.1.7)\n",
            "Requirement already satisfied: dlib>=19.7 in /usr/local/lib/python3.10/dist-packages (from face_recognition) (19.24.2)\n",
            "Requirement already satisfied: numpy in /usr/local/lib/python3.10/dist-packages (from face_recognition) (1.23.5)\n",
            "Requirement already satisfied: Pillow in /usr/local/lib/python3.10/dist-packages (from face_recognition) (9.4.0)\n"
          ]
        }
      ]
    },
    {
      "cell_type": "code",
      "source": [
        "import cv2\n",
        "import face_recognition\n",
        "import numpy as np\n",
        "from tqdm import tqdm\n",
        "from IPython.display import display, HTML, clear_output\n",
        "import io\n",
        "\n",
        "video_filename = \"/content/test.mp4\"\n",
        "known_face_image = face_recognition.load_image_file(\"/content/download.jpg\")\n",
        "known_face_encodings = face_recognition.face_encodings(known_face_image)\n",
        "known_face_names = [\"Elon\"]\n",
        "\n",
        "\n",
        "video_capture = cv2.VideoCapture(video_filename)\n",
        "\n",
        "total_frames = int(video_capture.get(cv2.CAP_PROP_FRAME_COUNT))\n",
        "width = int(video_capture.get(3))\n",
        "height = int(video_capture.get(4))\n",
        "fps = video_capture.get(5)\n",
        "\n",
        "fourcc = cv2.VideoWriter_fourcc(*'mp4v')\n",
        "output_filename = '/content/output.mp4'\n",
        "video_writer = cv2.VideoWriter(output_filename, fourcc, fps, (width, height))\n",
        "\n",
        "for frame_count in tqdm(range(total_frames), desc=\"Processing Frames\"):\n",
        "\n",
        "    ret, frame = video_capture.read()\n",
        "\n",
        "    if not ret:\n",
        "        break\n",
        "\n",
        "    face_locations = face_recognition.face_locations(frame)\n",
        "    face_encodings = face_recognition.face_encodings(frame, face_locations)\n",
        "\n",
        "    for (top, right, bottom, left), face_encoding in zip(face_locations, face_encodings):\n",
        "        matches = face_recognition.compare_faces(known_face_encodings, face_encoding)\n",
        "\n",
        "        name = \"Unknown\"\n",
        "\n",
        "        face_distances = face_recognition.face_distance(known_face_encodings, face_encoding)\n",
        "        best_match_index = np.argmin(face_distances)\n",
        "        if matches[best_match_index]:\n",
        "            name = known_face_names[best_match_index]\n",
        "\n",
        "        cv2.rectangle(frame, (left, top), (right, bottom), (0, 255, 0), 2)\n",
        "\n",
        "        text_width, text_height = cv2.getTextSize(name, cv2.FONT_HERSHEY_SIMPLEX, 0.75, 2)[0]\n",
        "        cv2.rectangle(frame, (left, bottom - text_height - 10), (right, bottom), (0, 255, 0), cv2.FILLED)\n",
        "        cv2.putText(frame, name, (left + 6, bottom - text_height - 5), cv2.FONT_HERSHEY_SIMPLEX, 0.75, (255, 255, 255), 2)\n",
        "\n",
        "\n",
        "    video_writer.write(frame)\n",
        "\n",
        "video_capture.release()\n",
        "video_writer.release()\n",
        "\n",
        "print(\"\\nProcessed video saved as:\", output_filename)\n"
      ],
      "metadata": {
        "id": "Q-A20kcsc-dV"
      },
      "execution_count": null,
      "outputs": []
    }
  ]
}